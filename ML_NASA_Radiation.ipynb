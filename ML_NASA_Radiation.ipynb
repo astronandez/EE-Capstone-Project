{
  "nbformat": 4,
  "nbformat_minor": 0,
  "metadata": {
    "colab": {
      "provenance": []
    },
    "kernelspec": {
      "name": "python3",
      "display_name": "Python 3"
    },
    "language_info": {
      "name": "python"
    }
  },
  "cells": [
    {
      "cell_type": "markdown",
      "source": [
        "## Importing necessary packages\n"
      ],
      "metadata": {
        "id": "AVsjOaO6-AWh"
      }
    },
    {
      "cell_type": "code",
      "execution_count": null,
      "metadata": {
        "id": "-kl1vY536Rsu"
      },
      "outputs": [],
      "source": [
        "# Numerical Operations\n",
        "import math\n",
        "import numpy as np\n",
        "\n",
        "# Reading/Writing Data\n",
        "import pandas as pd\n",
        "import os\n",
        "import csv\n",
        "\n",
        "# For Progress Bar\n",
        "from tqdm import tqdm\n",
        "\n",
        "# Pytorch\n",
        "import torch \n",
        "import torch.nn as nn\n",
        "from torch.utils.data import Dataset, DataLoader, random_split\n",
        "\n",
        "# For plotting learning curve\n",
        "from torch.utils.tensorboard import SummaryWriter"
      ]
    },
    {
      "cell_type": "markdown",
      "source": [
        "## Loading data"
      ],
      "metadata": {
        "id": "kYBaT-Gg-ENG"
      }
    },
    {
      "cell_type": "code",
      "source": [
        "# mnist_trainset = datasets.MNIST('/content/drive/MyDrive/Machine Learning for Smart Space-Based Radiation and X-Ray Spectrometer Instruments/Code/Preprocessing/Lu_integrals.csv', train=True, download=True, \n",
        "#                                 transform=transforms.ToTensor())\n",
        "# mnist_testset = datasets.MNIST('/content/drive/MyDrive/Machine Learning for Smart Space-Based Radiation and X-Ray Spectrometer Instruments/Code/Preprocessing/Lu_integrals.csv', train=False, download=True, \n",
        "#                                transform=transforms.ToTensor())\n",
        "# print(\"Print the training dataset:\\n \", mnist_trainset)\n",
        "# print(\"Print the testing dataset:\\n \", mnist_testset)\n",
        "\n",
        "\n",
        "train_data = pd.read_csv(\"/content/drive/MyDrive/Machine Learning for Smart Space-Based Radiation and X-Ray Spectrometer Instruments/Code/Preprocessing/Lu_integrals.csv\")\n",
        "#test_data = pd.read_csv(\"hw2_p1_test_data.csv\")\n",
        "train_data.head()"
      ],
      "metadata": {
        "id": "rMYeX-uS9suK",
        "colab": {
          "base_uri": "https://localhost:8080/",
          "height": 206
        },
        "outputId": "c7444f45-13c8-41c8-cfc4-295b4b8319d6"
      },
      "execution_count": null,
      "outputs": [
        {
          "output_type": "execute_result",
          "data": {
            "text/plain": [
              "   3.949949737136349185e-09\n",
              "0              2.221671e-09\n",
              "1              3.665683e-09\n",
              "2              9.885014e-09\n",
              "3              2.527140e-09\n",
              "4              1.581143e-09"
            ],
            "text/html": [
              "\n",
              "  <div id=\"df-c8a66bdf-1268-4d97-828d-1f832e0cbd13\">\n",
              "    <div class=\"colab-df-container\">\n",
              "      <div>\n",
              "<style scoped>\n",
              "    .dataframe tbody tr th:only-of-type {\n",
              "        vertical-align: middle;\n",
              "    }\n",
              "\n",
              "    .dataframe tbody tr th {\n",
              "        vertical-align: top;\n",
              "    }\n",
              "\n",
              "    .dataframe thead th {\n",
              "        text-align: right;\n",
              "    }\n",
              "</style>\n",
              "<table border=\"1\" class=\"dataframe\">\n",
              "  <thead>\n",
              "    <tr style=\"text-align: right;\">\n",
              "      <th></th>\n",
              "      <th>3.949949737136349185e-09</th>\n",
              "    </tr>\n",
              "  </thead>\n",
              "  <tbody>\n",
              "    <tr>\n",
              "      <th>0</th>\n",
              "      <td>2.221671e-09</td>\n",
              "    </tr>\n",
              "    <tr>\n",
              "      <th>1</th>\n",
              "      <td>3.665683e-09</td>\n",
              "    </tr>\n",
              "    <tr>\n",
              "      <th>2</th>\n",
              "      <td>9.885014e-09</td>\n",
              "    </tr>\n",
              "    <tr>\n",
              "      <th>3</th>\n",
              "      <td>2.527140e-09</td>\n",
              "    </tr>\n",
              "    <tr>\n",
              "      <th>4</th>\n",
              "      <td>1.581143e-09</td>\n",
              "    </tr>\n",
              "  </tbody>\n",
              "</table>\n",
              "</div>\n",
              "      <button class=\"colab-df-convert\" onclick=\"convertToInteractive('df-c8a66bdf-1268-4d97-828d-1f832e0cbd13')\"\n",
              "              title=\"Convert this dataframe to an interactive table.\"\n",
              "              style=\"display:none;\">\n",
              "        \n",
              "  <svg xmlns=\"http://www.w3.org/2000/svg\" height=\"24px\"viewBox=\"0 0 24 24\"\n",
              "       width=\"24px\">\n",
              "    <path d=\"M0 0h24v24H0V0z\" fill=\"none\"/>\n",
              "    <path d=\"M18.56 5.44l.94 2.06.94-2.06 2.06-.94-2.06-.94-.94-2.06-.94 2.06-2.06.94zm-11 1L8.5 8.5l.94-2.06 2.06-.94-2.06-.94L8.5 2.5l-.94 2.06-2.06.94zm10 10l.94 2.06.94-2.06 2.06-.94-2.06-.94-.94-2.06-.94 2.06-2.06.94z\"/><path d=\"M17.41 7.96l-1.37-1.37c-.4-.4-.92-.59-1.43-.59-.52 0-1.04.2-1.43.59L10.3 9.45l-7.72 7.72c-.78.78-.78 2.05 0 2.83L4 21.41c.39.39.9.59 1.41.59.51 0 1.02-.2 1.41-.59l7.78-7.78 2.81-2.81c.8-.78.8-2.07 0-2.86zM5.41 20L4 18.59l7.72-7.72 1.47 1.35L5.41 20z\"/>\n",
              "  </svg>\n",
              "      </button>\n",
              "      \n",
              "  <style>\n",
              "    .colab-df-container {\n",
              "      display:flex;\n",
              "      flex-wrap:wrap;\n",
              "      gap: 12px;\n",
              "    }\n",
              "\n",
              "    .colab-df-convert {\n",
              "      background-color: #E8F0FE;\n",
              "      border: none;\n",
              "      border-radius: 50%;\n",
              "      cursor: pointer;\n",
              "      display: none;\n",
              "      fill: #1967D2;\n",
              "      height: 32px;\n",
              "      padding: 0 0 0 0;\n",
              "      width: 32px;\n",
              "    }\n",
              "\n",
              "    .colab-df-convert:hover {\n",
              "      background-color: #E2EBFA;\n",
              "      box-shadow: 0px 1px 2px rgba(60, 64, 67, 0.3), 0px 1px 3px 1px rgba(60, 64, 67, 0.15);\n",
              "      fill: #174EA6;\n",
              "    }\n",
              "\n",
              "    [theme=dark] .colab-df-convert {\n",
              "      background-color: #3B4455;\n",
              "      fill: #D2E3FC;\n",
              "    }\n",
              "\n",
              "    [theme=dark] .colab-df-convert:hover {\n",
              "      background-color: #434B5C;\n",
              "      box-shadow: 0px 1px 3px 1px rgba(0, 0, 0, 0.15);\n",
              "      filter: drop-shadow(0px 1px 2px rgba(0, 0, 0, 0.3));\n",
              "      fill: #FFFFFF;\n",
              "    }\n",
              "  </style>\n",
              "\n",
              "      <script>\n",
              "        const buttonEl =\n",
              "          document.querySelector('#df-c8a66bdf-1268-4d97-828d-1f832e0cbd13 button.colab-df-convert');\n",
              "        buttonEl.style.display =\n",
              "          google.colab.kernel.accessAllowed ? 'block' : 'none';\n",
              "\n",
              "        async function convertToInteractive(key) {\n",
              "          const element = document.querySelector('#df-c8a66bdf-1268-4d97-828d-1f832e0cbd13');\n",
              "          const dataTable =\n",
              "            await google.colab.kernel.invokeFunction('convertToInteractive',\n",
              "                                                     [key], {});\n",
              "          if (!dataTable) return;\n",
              "\n",
              "          const docLinkHtml = 'Like what you see? Visit the ' +\n",
              "            '<a target=\"_blank\" href=https://colab.research.google.com/notebooks/data_table.ipynb>data table notebook</a>'\n",
              "            + ' to learn more about interactive tables.';\n",
              "          element.innerHTML = '';\n",
              "          dataTable['output_type'] = 'display_data';\n",
              "          await google.colab.output.renderOutput(dataTable, element);\n",
              "          const docLink = document.createElement('div');\n",
              "          docLink.innerHTML = docLinkHtml;\n",
              "          element.appendChild(docLink);\n",
              "        }\n",
              "      </script>\n",
              "    </div>\n",
              "  </div>\n",
              "  "
            ]
          },
          "metadata": {},
          "execution_count": 65
        }
      ]
    },
    {
      "cell_type": "markdown",
      "source": [
        "## Selecting the features we want"
      ],
      "metadata": {
        "id": "8lTxhUDm-JgC"
      }
    },
    {
      "cell_type": "code",
      "source": [
        "# def select_feat(train_data, valid_data, test_data, select_all=True):\n",
        "#     '''Selects useful features to perform regression'''\n",
        "#     y_train, y_valid, y_test = train_data[:,0], valid_data[:,0], test_data[:,0]\n",
        "#     raw_x_train, raw_x_valid, raw_x_test = train_data[:,1:], valid_data[:,1:], test_data[:,1:]\n",
        "\n",
        "#     if select_all:\n",
        "#         feat_idx = list(range(raw_x_train.shape[1]))\n",
        "#     else:\n",
        "#         feat_idx = [0,1,2,3,4] # TODO: Select suitable feature columns, but we are using MNIST, so better select all\n",
        "        \n",
        "    # return raw_x_train[:,feat_idx], raw_x_valid[:,feat_idx], raw_x_test[:,feat_idx], y_train, y_valid, y_test"
      ],
      "metadata": {
        "id": "dBBYoyKt90gg"
      },
      "execution_count": null,
      "outputs": []
    },
    {
      "cell_type": "markdown",
      "source": [
        "## Training Loop"
      ],
      "metadata": {
        "id": "dtRNcmXB-NIZ"
      }
    },
    {
      "cell_type": "code",
      "source": [
        "def trainer(train_loader, valid_loader, model, config, device):\n",
        "\n",
        "    criterion = nn.CrossEntropyLoss(reduction='mean') # Define your loss function, do not modify this.\n",
        "\n",
        "    # Define your optimization algorithm. \n",
        "    # TODO: Please check https://pytorch.org/docs/stable/optim.html to get more available algorithms.\n",
        "    optimizer = torch.optim.Adam(model.parameters(), lr=config['learning_rate']) \n",
        "    writer = SummaryWriter() # Writer of tensoboard.\n",
        "\n",
        "    if not os.path.isdir('./models'):\n",
        "        os.mkdir('./models') # Create directory of saving models.\n",
        "\n",
        "    n_epochs, best_loss, step, early_stop_count = config['n_epochs'], math.inf, 0, 0\n",
        "\n",
        "    for epoch in range(n_epochs):\n",
        "        model.train() # Set your model to train mode.\n",
        "        loss_record = []\n",
        "\n",
        "        # tqdm is a package to visualize your training progress.\n",
        "        train_pbar = tqdm(train_loader, position=0, leave=True)\n",
        "\n",
        "        for x, y in train_pbar:\n",
        "            optimizer.zero_grad()               # Set gradient to zero.\n",
        "            x, y = x.to(device), y.to(device)   # Move your data to device. \n",
        "            pred = model(x)\n",
        "            loss = criterion(pred, y)\n",
        "            loss.backward()                     # Compute gradient(backpropagation).\n",
        "            optimizer.step()                    # Update parameters.\n",
        "            step += 1\n",
        "            loss_record.append(loss.detach().item())\n",
        "            \n",
        "            # Display current epoch number and loss on tqdm progress bar.\n",
        "            train_pbar.set_description(f'Epoch [{epoch+1}/{n_epochs}]')\n",
        "            train_pbar.set_postfix({'loss': loss.detach().item()})\n",
        "\n",
        "        mean_train_loss = sum(loss_record)/len(loss_record)\n",
        "        writer.add_scalar('Loss/train', mean_train_loss, step)\n",
        "\n",
        "        model.eval() # Set your model to evaluation mode.\n",
        "        loss_record = []\n",
        "        val_accuracy = []\n",
        "        for x, y in valid_loader:\n",
        "            x, y = x.to(device), y.to(device)\n",
        "            with torch.no_grad():\n",
        "                pred = model(x)\n",
        "                loss = criterion(pred, y)\n",
        "\n",
        "                _, predicted = torch.max(pred.data, 1)\n",
        "                val_accuracy.append((predicted == y).sum().item() / predicted.size(0))\n",
        "\n",
        "            loss_record.append(loss.item())\n",
        "            \n",
        "        mean_valid_loss = sum(loss_record)/len(loss_record)\n",
        "        overall_val_accuracy = np.mean(val_accuracy)\n",
        "        print(f'Epoch [{epoch+1}/{n_epochs}]: Train loss: {mean_train_loss:.4f}, Valid loss: {mean_valid_loss:.4f} Valid acc: {overall_val_accuracy:.4f}')\n",
        "        # writer.add_scalar('Loss/valid', mean_valid_loss, step)\n",
        "\n",
        "        if mean_valid_loss < best_loss:\n",
        "            best_loss = mean_valid_loss\n",
        "            torch.save(model.state_dict(), config['save_path']) # Save your best model\n",
        "            print('Saving model with loss {:.3f}...'.format(best_loss))\n",
        "            early_stop_count = 0\n",
        "        else: \n",
        "            early_stop_count += 1\n",
        "\n",
        "        if early_stop_count >= config['early_stop']:\n",
        "            print('\\nModel is not improving, so we halt the training session.')\n",
        "            return"
      ],
      "metadata": {
        "id": "najLj1b2-NR5"
      },
      "execution_count": null,
      "outputs": []
    },
    {
      "cell_type": "markdown",
      "source": [
        "## Configuration of our model"
      ],
      "metadata": {
        "id": "8Zn9QTvH-VTN"
      }
    },
    {
      "cell_type": "code",
      "source": [
        "def same_seed(seed): \n",
        "    '''Fixes random number generator seeds for reproducibility.'''\n",
        "    torch.backends.cudnn.deterministic = True\n",
        "    torch.backends.cudnn.benchmark = False\n",
        "    np.random.seed(seed)\n",
        "    torch.manual_seed(seed)\n",
        "    if torch.cuda.is_available():\n",
        "        torch.cuda.manual_seed_all(seed)"
      ],
      "metadata": {
        "id": "3r_3S9Watdlv"
      },
      "execution_count": null,
      "outputs": []
    },
    {
      "cell_type": "code",
      "source": [
        "device = 'cuda' if torch.cuda.is_available() else 'cpu'\n",
        "config = {\n",
        "    'seed': 5201314,      # Your seed number, you can pick your lucky number. :)\n",
        "    'select_all': True,   # Whether to use all features.\n",
        "    'valid_ratio': 0.2,   # validation_size = train_size * valid_ratio\n",
        "    'n_epochs': 100,     # Number of epochs.            \n",
        "    'batch_size': 256, \n",
        "    'learning_rate': 0.00001,              \n",
        "    'early_stop': 100,    # If model has not improved for this many consecutive epochs, stop training.     \n",
        "    'save_path': './models/model.ckpt'  # Your model will be saved here.\n",
        "}"
      ],
      "metadata": {
        "id": "_cXvQkE8-XMg"
      },
      "execution_count": null,
      "outputs": []
    },
    {
      "cell_type": "markdown",
      "source": [
        "## Setting up the training, validation, and testing sets"
      ],
      "metadata": {
        "id": "RqVjEF3A-cCE"
      }
    },
    {
      "cell_type": "code",
      "source": [
        "class RadiationDataset(Dataset):\n",
        "    def __init__(self, x, y=None):\n",
        "        if y is None:\n",
        "            self.y = None\n",
        "        else:\n",
        "            self.y = torch.LongTensor(y)\n",
        "        self.x = torch.FloatTensor(x)\n",
        "\n",
        "    def __getitem__(self, idx):\n",
        "        if self.y is None:\n",
        "            return self.x[idx]\n",
        "        else:\n",
        "            return self.x[idx], self.y[idx]\n",
        "\n",
        "    def __len__(self):\n",
        "        return len(self.x)"
      ],
      "metadata": {
        "id": "S2NSXSEJyQ76"
      },
      "execution_count": null,
      "outputs": []
    },
    {
      "cell_type": "code",
      "source": [
        "def train_valid_split(data_set, valid_ratio, seed):\n",
        "    '''Split provided training data into training set and validation set'''\n",
        "    valid_set_size = int(valid_ratio * len(data_set)) \n",
        "    train_set_size = len(data_set) - valid_set_size\n",
        "    train_set, valid_set = random_split(data_set, [train_set_size, valid_set_size], generator=torch.Generator().manual_seed(seed))\n",
        "    return np.array(train_set), np.array(valid_set)"
      ],
      "metadata": {
        "id": "vpn75yRsupI-"
      },
      "execution_count": null,
      "outputs": []
    },
    {
      "cell_type": "code",
      "source": [
        "same_seed(config['seed'])\n",
        "train_data, test_data = pd.read_csv(\"/content/drive/MyDrive/Machine Learning for Smart Space-Based Radiation and X-Ray Spectrometer Instruments/Code/Preprocessing/Lu_integrals.csv\").values, pd.read_csv(\"/content/drive/MyDrive/Machine Learning for Smart Space-Based Radiation and X-Ray Spectrometer Instruments/Code/Preprocessing/Lu_integrals.csv\").values\n",
        "train_data, valid_data = train_valid_split(train_data, config['valid_ratio'], config['seed'])\n",
        "\n",
        "# Print out the data size.\n",
        "print(f\"\"\"train_data size: {train_data.shape} \n",
        "valid_data size: {valid_data.shape} \n",
        "test_data size: {test_data.shape}\"\"\")\n",
        "\n",
        "# Select features\n",
        "x_train, x_valid, x_test, y_train, y_valid, y_test = select_feat(train_data, valid_data, test_data, config['select_all'])\n",
        "\n",
        "# Print out the number of features.\n",
        "print(f'number of features: {x_train.shape[1]}')\n",
        "\n",
        "# x_train, x_valid, y_train, y_valid = train_test_split(x_train, y_train, test_size=0.2, random_state=0)\n",
        "train_dataset, valid_dataset, test_dataset = RadiationDataset(x_train, y_train), \\\n",
        "                                             RadiationDataset(x_valid, y_valid), \\\n",
        "                                             RadiationDataset(x_test)\n",
        "\n",
        "# Pytorch data loader loads pytorch dataset into batches.\n",
        "train_loader = DataLoader(train_dataset, batch_size=config['batch_size'], shuffle=True, pin_memory=True)\n",
        "valid_loader = DataLoader(valid_dataset, batch_size=config['batch_size'], shuffle=True, pin_memory=True)\n",
        "test_loader = DataLoader(test_dataset, batch_size=config['batch_size'], shuffle=False, pin_memory=True)"
      ],
      "metadata": {
        "id": "V33NjNe--cIt",
        "colab": {
          "base_uri": "https://localhost:8080/"
        },
        "outputId": "dd8207f6-fecc-440c-b840-dc1bf57c12cb"
      },
      "execution_count": null,
      "outputs": [
        {
          "output_type": "stream",
          "name": "stdout",
          "text": [
            "train_data size: (8799, 1) \n",
            "valid_data size: (2199, 1) \n",
            "test_data size: (10998, 1)\n",
            "number of features: 0\n"
          ]
        }
      ]
    },
    {
      "cell_type": "code",
      "source": [
        "print(train_loader)"
      ],
      "metadata": {
        "colab": {
          "base_uri": "https://localhost:8080/"
        },
        "id": "qTCG3dHItOer",
        "outputId": "b25c1702-4537-42f8-ff06-e124bc74f741"
      },
      "execution_count": null,
      "outputs": [
        {
          "output_type": "stream",
          "name": "stdout",
          "text": [
            "<torch.utils.data.dataloader.DataLoader object at 0x7f06e6eb82e0>\n"
          ]
        }
      ]
    },
    {
      "cell_type": "markdown",
      "source": [
        "## Actual training"
      ],
      "metadata": {
        "id": "k-_Dfjs1-iUx"
      }
    },
    {
      "cell_type": "code",
      "source": [],
      "metadata": {
        "id": "UlMKyCRZzJlh"
      },
      "execution_count": null,
      "outputs": []
    },
    {
      "cell_type": "code",
      "execution_count": null,
      "metadata": {
        "id": "Qn97_WvvrEkG"
      },
      "outputs": [],
      "source": [
        "class My_Model(nn.Module):\n",
        "    def __init__(self, input_dim):\n",
        "        super(My_Model, self).__init__()\n",
        "        # TODO: modify model's structure, be aware of dimensions. \n",
        "        self.layers = nn.Sequential(\n",
        "            nn.Linear(input_dim, 64),\n",
        "            nn.ReLU(),\n",
        "            nn.Linear(64, 32),\n",
        "            nn.ReLU(),\n",
        "            nn.Linear(32, 10)\n",
        "        )\n",
        "\n",
        "    def forward(self, x):\n",
        "        x = self.layers(x)\n",
        "        # x = x.squeeze(1) # (B, 1) -> (B)\n",
        "        return x"
      ]
    },
    {
      "cell_type": "code",
      "source": [
        "model = My_Model(input_dim=x_test.shape[1]).to(device) # put your model and data on the same computation device.\n",
        "trainer(train_loader, valid_loader, model, config, device)"
      ],
      "metadata": {
        "id": "s54ECEZp-ief",
        "colab": {
          "base_uri": "https://localhost:8080/"
        },
        "outputId": "7bc660cb-a096-4a57-95b2-454a7fc98633"
      },
      "execution_count": null,
      "outputs": [
        {
          "output_type": "stream",
          "name": "stderr",
          "text": [
            "/usr/local/lib/python3.10/dist-packages/torch/nn/init.py:405: UserWarning: Initializing zero-element tensors is a no-op\n",
            "  warnings.warn(\"Initializing zero-element tensors is a no-op\")\n",
            "Epoch [1/100]: 100%|██████████| 35/35 [00:00<00:00, 93.08it/s, loss=2.19]\n"
          ]
        },
        {
          "output_type": "stream",
          "name": "stdout",
          "text": [
            "Epoch [1/100]: Train loss: 2.1862, Valid loss: 2.1855 Valid acc: 1.0000\n",
            "Saving model with loss 2.186...\n"
          ]
        },
        {
          "output_type": "stream",
          "name": "stderr",
          "text": [
            "Epoch [2/100]: 100%|██████████| 35/35 [00:00<00:00, 96.39it/s, loss=2.18]\n"
          ]
        },
        {
          "output_type": "stream",
          "name": "stdout",
          "text": [
            "Epoch [2/100]: Train loss: 2.1849, Valid loss: 2.1842 Valid acc: 1.0000\n",
            "Saving model with loss 2.184...\n"
          ]
        },
        {
          "output_type": "stream",
          "name": "stderr",
          "text": [
            "Epoch [3/100]: 100%|██████████| 35/35 [00:00<00:00, 96.01it/s, loss=2.18]\n"
          ]
        },
        {
          "output_type": "stream",
          "name": "stdout",
          "text": [
            "Epoch [3/100]: Train loss: 2.1836, Valid loss: 2.1829 Valid acc: 1.0000\n",
            "Saving model with loss 2.183...\n"
          ]
        },
        {
          "output_type": "stream",
          "name": "stderr",
          "text": [
            "Epoch [4/100]: 100%|██████████| 35/35 [00:00<00:00, 89.34it/s, loss=2.18]\n"
          ]
        },
        {
          "output_type": "stream",
          "name": "stdout",
          "text": [
            "Epoch [4/100]: Train loss: 2.1823, Valid loss: 2.1816 Valid acc: 1.0000\n",
            "Saving model with loss 2.182...\n"
          ]
        },
        {
          "output_type": "stream",
          "name": "stderr",
          "text": [
            "Epoch [5/100]: 100%|██████████| 35/35 [00:00<00:00, 91.96it/s, loss=2.18]\n"
          ]
        },
        {
          "output_type": "stream",
          "name": "stdout",
          "text": [
            "Epoch [5/100]: Train loss: 2.1809, Valid loss: 2.1803 Valid acc: 1.0000\n",
            "Saving model with loss 2.180...\n"
          ]
        },
        {
          "output_type": "stream",
          "name": "stderr",
          "text": [
            "Epoch [6/100]: 100%|██████████| 35/35 [00:00<00:00, 89.29it/s, loss=2.18]\n"
          ]
        },
        {
          "output_type": "stream",
          "name": "stdout",
          "text": [
            "Epoch [6/100]: Train loss: 2.1796, Valid loss: 2.1789 Valid acc: 1.0000\n",
            "Saving model with loss 2.179...\n"
          ]
        },
        {
          "output_type": "stream",
          "name": "stderr",
          "text": [
            "Epoch [7/100]: 100%|██████████| 35/35 [00:00<00:00, 76.52it/s, loss=2.18]\n"
          ]
        },
        {
          "output_type": "stream",
          "name": "stdout",
          "text": [
            "Epoch [7/100]: Train loss: 2.1783, Valid loss: 2.1776 Valid acc: 1.0000\n",
            "Saving model with loss 2.178...\n"
          ]
        },
        {
          "output_type": "stream",
          "name": "stderr",
          "text": [
            "Epoch [8/100]: 100%|██████████| 35/35 [00:00<00:00, 90.69it/s, loss=2.18]\n"
          ]
        },
        {
          "output_type": "stream",
          "name": "stdout",
          "text": [
            "Epoch [8/100]: Train loss: 2.1770, Valid loss: 2.1763 Valid acc: 1.0000\n",
            "Saving model with loss 2.176...\n"
          ]
        },
        {
          "output_type": "stream",
          "name": "stderr",
          "text": [
            "Epoch [9/100]: 100%|██████████| 35/35 [00:00<00:00, 87.09it/s, loss=2.17]\n"
          ]
        },
        {
          "output_type": "stream",
          "name": "stdout",
          "text": [
            "Epoch [9/100]: Train loss: 2.1756, Valid loss: 2.1749 Valid acc: 1.0000\n",
            "Saving model with loss 2.175...\n"
          ]
        },
        {
          "output_type": "stream",
          "name": "stderr",
          "text": [
            "Epoch [10/100]: 100%|██████████| 35/35 [00:00<00:00, 98.29it/s, loss=2.17]\n"
          ]
        },
        {
          "output_type": "stream",
          "name": "stdout",
          "text": [
            "Epoch [10/100]: Train loss: 2.1743, Valid loss: 2.1736 Valid acc: 1.0000\n",
            "Saving model with loss 2.174...\n"
          ]
        },
        {
          "output_type": "stream",
          "name": "stderr",
          "text": [
            "Epoch [11/100]: 100%|██████████| 35/35 [00:00<00:00, 96.43it/s, loss=2.17]\n"
          ]
        },
        {
          "output_type": "stream",
          "name": "stdout",
          "text": [
            "Epoch [11/100]: Train loss: 2.1729, Valid loss: 2.1722 Valid acc: 1.0000\n",
            "Saving model with loss 2.172...\n"
          ]
        },
        {
          "output_type": "stream",
          "name": "stderr",
          "text": [
            "Epoch [12/100]: 100%|██████████| 35/35 [00:00<00:00, 94.03it/s, loss=2.17]\n"
          ]
        },
        {
          "output_type": "stream",
          "name": "stdout",
          "text": [
            "Epoch [12/100]: Train loss: 2.1716, Valid loss: 2.1709 Valid acc: 1.0000\n",
            "Saving model with loss 2.171...\n"
          ]
        },
        {
          "output_type": "stream",
          "name": "stderr",
          "text": [
            "Epoch [13/100]: 100%|██████████| 35/35 [00:00<00:00, 93.01it/s, loss=2.17]\n"
          ]
        },
        {
          "output_type": "stream",
          "name": "stdout",
          "text": [
            "Epoch [13/100]: Train loss: 2.1702, Valid loss: 2.1696 Valid acc: 1.0000\n",
            "Saving model with loss 2.170...\n"
          ]
        },
        {
          "output_type": "stream",
          "name": "stderr",
          "text": [
            "Epoch [14/100]: 100%|██████████| 35/35 [00:00<00:00, 83.60it/s, loss=2.17]\n"
          ]
        },
        {
          "output_type": "stream",
          "name": "stdout",
          "text": [
            "Epoch [14/100]: Train loss: 2.1689, Valid loss: 2.1682 Valid acc: 1.0000\n",
            "Saving model with loss 2.168...\n"
          ]
        },
        {
          "output_type": "stream",
          "name": "stderr",
          "text": [
            "Epoch [15/100]: 100%|██████████| 35/35 [00:00<00:00, 94.46it/s, loss=2.17]\n"
          ]
        },
        {
          "output_type": "stream",
          "name": "stdout",
          "text": [
            "Epoch [15/100]: Train loss: 2.1675, Valid loss: 2.1668 Valid acc: 1.0000\n",
            "Saving model with loss 2.167...\n"
          ]
        },
        {
          "output_type": "stream",
          "name": "stderr",
          "text": [
            "Epoch [16/100]: 100%|██████████| 35/35 [00:00<00:00, 97.45it/s, loss=2.17]\n"
          ]
        },
        {
          "output_type": "stream",
          "name": "stdout",
          "text": [
            "Epoch [16/100]: Train loss: 2.1662, Valid loss: 2.1655 Valid acc: 1.0000\n",
            "Saving model with loss 2.165...\n"
          ]
        },
        {
          "output_type": "stream",
          "name": "stderr",
          "text": [
            "Epoch [17/100]: 100%|██████████| 35/35 [00:00<00:00, 88.63it/s, loss=2.16]\n"
          ]
        },
        {
          "output_type": "stream",
          "name": "stdout",
          "text": [
            "Epoch [17/100]: Train loss: 2.1648, Valid loss: 2.1641 Valid acc: 1.0000\n",
            "Saving model with loss 2.164...\n"
          ]
        },
        {
          "output_type": "stream",
          "name": "stderr",
          "text": [
            "Epoch [18/100]: 100%|██████████| 35/35 [00:00<00:00, 95.25it/s, loss=2.16]\n"
          ]
        },
        {
          "output_type": "stream",
          "name": "stdout",
          "text": [
            "Epoch [18/100]: Train loss: 2.1634, Valid loss: 2.1627 Valid acc: 1.0000\n",
            "Saving model with loss 2.163...\n"
          ]
        },
        {
          "output_type": "stream",
          "name": "stderr",
          "text": [
            "Epoch [19/100]: 100%|██████████| 35/35 [00:00<00:00, 91.38it/s, loss=2.16]\n"
          ]
        },
        {
          "output_type": "stream",
          "name": "stdout",
          "text": [
            "Epoch [19/100]: Train loss: 2.1621, Valid loss: 2.1614 Valid acc: 1.0000\n",
            "Saving model with loss 2.161...\n"
          ]
        },
        {
          "output_type": "stream",
          "name": "stderr",
          "text": [
            "Epoch [20/100]: 100%|██████████| 35/35 [00:00<00:00, 91.65it/s, loss=2.16]\n"
          ]
        },
        {
          "output_type": "stream",
          "name": "stdout",
          "text": [
            "Epoch [20/100]: Train loss: 2.1607, Valid loss: 2.1600 Valid acc: 1.0000\n",
            "Saving model with loss 2.160...\n"
          ]
        },
        {
          "output_type": "stream",
          "name": "stderr",
          "text": [
            "Epoch [21/100]: 100%|██████████| 35/35 [00:00<00:00, 97.79it/s, loss=2.16]\n"
          ]
        },
        {
          "output_type": "stream",
          "name": "stdout",
          "text": [
            "Epoch [21/100]: Train loss: 2.1593, Valid loss: 2.1586 Valid acc: 1.0000\n",
            "Saving model with loss 2.159...\n"
          ]
        },
        {
          "output_type": "stream",
          "name": "stderr",
          "text": [
            "Epoch [22/100]: 100%|██████████| 35/35 [00:00<00:00, 89.69it/s, loss=2.16]\n"
          ]
        },
        {
          "output_type": "stream",
          "name": "stdout",
          "text": [
            "Epoch [22/100]: Train loss: 2.1579, Valid loss: 2.1572 Valid acc: 1.0000\n",
            "Saving model with loss 2.157...\n"
          ]
        },
        {
          "output_type": "stream",
          "name": "stderr",
          "text": [
            "Epoch [23/100]: 100%|██████████| 35/35 [00:00<00:00, 94.36it/s, loss=2.16]\n"
          ]
        },
        {
          "output_type": "stream",
          "name": "stdout",
          "text": [
            "Epoch [23/100]: Train loss: 2.1565, Valid loss: 2.1558 Valid acc: 1.0000\n",
            "Saving model with loss 2.156...\n"
          ]
        },
        {
          "output_type": "stream",
          "name": "stderr",
          "text": [
            "Epoch [24/100]: 100%|██████████| 35/35 [00:00<00:00, 95.35it/s, loss=2.15]\n"
          ]
        },
        {
          "output_type": "stream",
          "name": "stdout",
          "text": [
            "Epoch [24/100]: Train loss: 2.1551, Valid loss: 2.1544 Valid acc: 1.0000\n",
            "Saving model with loss 2.154...\n"
          ]
        },
        {
          "output_type": "stream",
          "name": "stderr",
          "text": [
            "Epoch [25/100]: 100%|██████████| 35/35 [00:00<00:00, 91.87it/s, loss=2.15]\n"
          ]
        },
        {
          "output_type": "stream",
          "name": "stdout",
          "text": [
            "Epoch [25/100]: Train loss: 2.1537, Valid loss: 2.1530 Valid acc: 1.0000\n",
            "Saving model with loss 2.153...\n"
          ]
        },
        {
          "output_type": "stream",
          "name": "stderr",
          "text": [
            "Epoch [26/100]: 100%|██████████| 35/35 [00:00<00:00, 84.94it/s, loss=2.15]\n"
          ]
        },
        {
          "output_type": "stream",
          "name": "stdout",
          "text": [
            "Epoch [26/100]: Train loss: 2.1523, Valid loss: 2.1516 Valid acc: 1.0000\n",
            "Saving model with loss 2.152...\n"
          ]
        },
        {
          "output_type": "stream",
          "name": "stderr",
          "text": [
            "Epoch [27/100]: 100%|██████████| 35/35 [00:00<00:00, 85.52it/s, loss=2.15]\n"
          ]
        },
        {
          "output_type": "stream",
          "name": "stdout",
          "text": [
            "Epoch [27/100]: Train loss: 2.1509, Valid loss: 2.1502 Valid acc: 1.0000\n",
            "Saving model with loss 2.150...\n"
          ]
        },
        {
          "output_type": "stream",
          "name": "stderr",
          "text": [
            "Epoch [28/100]: 100%|██████████| 35/35 [00:00<00:00, 84.85it/s, loss=2.15]\n"
          ]
        },
        {
          "output_type": "stream",
          "name": "stdout",
          "text": [
            "Epoch [28/100]: Train loss: 2.1495, Valid loss: 2.1488 Valid acc: 1.0000\n",
            "Saving model with loss 2.149...\n"
          ]
        },
        {
          "output_type": "stream",
          "name": "stderr",
          "text": [
            "Epoch [29/100]: 100%|██████████| 35/35 [00:00<00:00, 86.36it/s, loss=2.15]\n"
          ]
        },
        {
          "output_type": "stream",
          "name": "stdout",
          "text": [
            "Epoch [29/100]: Train loss: 2.1481, Valid loss: 2.1474 Valid acc: 1.0000\n",
            "Saving model with loss 2.147...\n"
          ]
        },
        {
          "output_type": "stream",
          "name": "stderr",
          "text": [
            "Epoch [30/100]: 100%|██████████| 35/35 [00:00<00:00, 89.59it/s, loss=2.15]\n"
          ]
        },
        {
          "output_type": "stream",
          "name": "stdout",
          "text": [
            "Epoch [30/100]: Train loss: 2.1467, Valid loss: 2.1459 Valid acc: 1.0000\n",
            "Saving model with loss 2.146...\n"
          ]
        },
        {
          "output_type": "stream",
          "name": "stderr",
          "text": [
            "Epoch [31/100]: 100%|██████████| 35/35 [00:00<00:00, 91.88it/s, loss=2.14]\n"
          ]
        },
        {
          "output_type": "stream",
          "name": "stdout",
          "text": [
            "Epoch [31/100]: Train loss: 2.1452, Valid loss: 2.1445 Valid acc: 1.0000\n",
            "Saving model with loss 2.145...\n"
          ]
        },
        {
          "output_type": "stream",
          "name": "stderr",
          "text": [
            "Epoch [32/100]: 100%|██████████| 35/35 [00:00<00:00, 87.13it/s, loss=2.14]\n"
          ]
        },
        {
          "output_type": "stream",
          "name": "stdout",
          "text": [
            "Epoch [32/100]: Train loss: 2.1438, Valid loss: 2.1431 Valid acc: 1.0000\n",
            "Saving model with loss 2.143...\n"
          ]
        },
        {
          "output_type": "stream",
          "name": "stderr",
          "text": [
            "Epoch [33/100]: 100%|██████████| 35/35 [00:00<00:00, 87.67it/s, loss=2.14]\n"
          ]
        },
        {
          "output_type": "stream",
          "name": "stdout",
          "text": [
            "Epoch [33/100]: Train loss: 2.1424, Valid loss: 2.1416 Valid acc: 1.0000\n",
            "Saving model with loss 2.142...\n"
          ]
        },
        {
          "output_type": "stream",
          "name": "stderr",
          "text": [
            "Epoch [34/100]: 100%|██████████| 35/35 [00:00<00:00, 84.55it/s, loss=2.14]\n"
          ]
        },
        {
          "output_type": "stream",
          "name": "stdout",
          "text": [
            "Epoch [34/100]: Train loss: 2.1409, Valid loss: 2.1402 Valid acc: 1.0000\n",
            "Saving model with loss 2.140...\n"
          ]
        },
        {
          "output_type": "stream",
          "name": "stderr",
          "text": [
            "Epoch [35/100]: 100%|██████████| 35/35 [00:00<00:00, 89.92it/s, loss=2.14]\n"
          ]
        },
        {
          "output_type": "stream",
          "name": "stdout",
          "text": [
            "Epoch [35/100]: Train loss: 2.1395, Valid loss: 2.1388 Valid acc: 1.0000\n",
            "Saving model with loss 2.139...\n"
          ]
        },
        {
          "output_type": "stream",
          "name": "stderr",
          "text": [
            "Epoch [36/100]: 100%|██████████| 35/35 [00:00<00:00, 91.35it/s, loss=2.14]\n"
          ]
        },
        {
          "output_type": "stream",
          "name": "stdout",
          "text": [
            "Epoch [36/100]: Train loss: 2.1381, Valid loss: 2.1373 Valid acc: 1.0000\n",
            "Saving model with loss 2.137...\n"
          ]
        },
        {
          "output_type": "stream",
          "name": "stderr",
          "text": [
            "Epoch [37/100]: 100%|██████████| 35/35 [00:00<00:00, 95.26it/s, loss=2.14]\n"
          ]
        },
        {
          "output_type": "stream",
          "name": "stdout",
          "text": [
            "Epoch [37/100]: Train loss: 2.1366, Valid loss: 2.1359 Valid acc: 1.0000\n",
            "Saving model with loss 2.136...\n"
          ]
        },
        {
          "output_type": "stream",
          "name": "stderr",
          "text": [
            "Epoch [38/100]: 100%|██████████| 35/35 [00:00<00:00, 91.42it/s, loss=2.13]\n"
          ]
        },
        {
          "output_type": "stream",
          "name": "stdout",
          "text": [
            "Epoch [38/100]: Train loss: 2.1352, Valid loss: 2.1344 Valid acc: 1.0000\n",
            "Saving model with loss 2.134...\n"
          ]
        },
        {
          "output_type": "stream",
          "name": "stderr",
          "text": [
            "Epoch [39/100]: 100%|██████████| 35/35 [00:00<00:00, 88.77it/s, loss=2.13]\n"
          ]
        },
        {
          "output_type": "stream",
          "name": "stdout",
          "text": [
            "Epoch [39/100]: Train loss: 2.1337, Valid loss: 2.1329 Valid acc: 1.0000\n",
            "Saving model with loss 2.133...\n"
          ]
        },
        {
          "output_type": "stream",
          "name": "stderr",
          "text": [
            "Epoch [40/100]: 100%|██████████| 35/35 [00:00<00:00, 91.20it/s, loss=2.13]\n"
          ]
        },
        {
          "output_type": "stream",
          "name": "stdout",
          "text": [
            "Epoch [40/100]: Train loss: 2.1322, Valid loss: 2.1315 Valid acc: 1.0000\n",
            "Saving model with loss 2.131...\n"
          ]
        },
        {
          "output_type": "stream",
          "name": "stderr",
          "text": [
            "Epoch [41/100]: 100%|██████████| 35/35 [00:00<00:00, 48.31it/s, loss=2.13]\n"
          ]
        },
        {
          "output_type": "stream",
          "name": "stdout",
          "text": [
            "Epoch [41/100]: Train loss: 2.1308, Valid loss: 2.1300 Valid acc: 1.0000\n",
            "Saving model with loss 2.130...\n"
          ]
        },
        {
          "output_type": "stream",
          "name": "stderr",
          "text": [
            "Epoch [42/100]: 100%|██████████| 35/35 [00:00<00:00, 94.32it/s, loss=2.13]\n"
          ]
        },
        {
          "output_type": "stream",
          "name": "stdout",
          "text": [
            "Epoch [42/100]: Train loss: 2.1293, Valid loss: 2.1285 Valid acc: 1.0000\n",
            "Saving model with loss 2.129...\n"
          ]
        },
        {
          "output_type": "stream",
          "name": "stderr",
          "text": [
            "Epoch [43/100]: 100%|██████████| 35/35 [00:00<00:00, 91.55it/s, loss=2.13]\n"
          ]
        },
        {
          "output_type": "stream",
          "name": "stdout",
          "text": [
            "Epoch [43/100]: Train loss: 2.1278, Valid loss: 2.1271 Valid acc: 1.0000\n",
            "Saving model with loss 2.127...\n"
          ]
        },
        {
          "output_type": "stream",
          "name": "stderr",
          "text": [
            "Epoch [44/100]: 100%|██████████| 35/35 [00:00<00:00, 99.19it/s, loss=2.13] \n"
          ]
        },
        {
          "output_type": "stream",
          "name": "stdout",
          "text": [
            "Epoch [44/100]: Train loss: 2.1263, Valid loss: 2.1256 Valid acc: 1.0000\n",
            "Saving model with loss 2.126...\n"
          ]
        },
        {
          "output_type": "stream",
          "name": "stderr",
          "text": [
            "Epoch [45/100]: 100%|██████████| 35/35 [00:00<00:00, 93.60it/s, loss=2.12]\n"
          ]
        },
        {
          "output_type": "stream",
          "name": "stdout",
          "text": [
            "Epoch [45/100]: Train loss: 2.1249, Valid loss: 2.1241 Valid acc: 1.0000\n",
            "Saving model with loss 2.124...\n"
          ]
        },
        {
          "output_type": "stream",
          "name": "stderr",
          "text": [
            "Epoch [46/100]: 100%|██████████| 35/35 [00:00<00:00, 92.91it/s, loss=2.12]\n"
          ]
        },
        {
          "output_type": "stream",
          "name": "stdout",
          "text": [
            "Epoch [46/100]: Train loss: 2.1234, Valid loss: 2.1226 Valid acc: 1.0000\n",
            "Saving model with loss 2.123...\n"
          ]
        },
        {
          "output_type": "stream",
          "name": "stderr",
          "text": [
            "Epoch [47/100]: 100%|██████████| 35/35 [00:00<00:00, 95.14it/s, loss=2.12]\n"
          ]
        },
        {
          "output_type": "stream",
          "name": "stdout",
          "text": [
            "Epoch [47/100]: Train loss: 2.1219, Valid loss: 2.1211 Valid acc: 1.0000\n",
            "Saving model with loss 2.121...\n"
          ]
        },
        {
          "output_type": "stream",
          "name": "stderr",
          "text": [
            "Epoch [48/100]: 100%|██████████| 35/35 [00:00<00:00, 91.78it/s, loss=2.12]\n"
          ]
        },
        {
          "output_type": "stream",
          "name": "stdout",
          "text": [
            "Epoch [48/100]: Train loss: 2.1204, Valid loss: 2.1196 Valid acc: 1.0000\n",
            "Saving model with loss 2.120...\n"
          ]
        },
        {
          "output_type": "stream",
          "name": "stderr",
          "text": [
            "Epoch [49/100]: 100%|██████████| 35/35 [00:00<00:00, 96.81it/s, loss=2.12]\n"
          ]
        },
        {
          "output_type": "stream",
          "name": "stdout",
          "text": [
            "Epoch [49/100]: Train loss: 2.1189, Valid loss: 2.1181 Valid acc: 1.0000\n",
            "Saving model with loss 2.118...\n"
          ]
        },
        {
          "output_type": "stream",
          "name": "stderr",
          "text": [
            "Epoch [50/100]: 100%|██████████| 35/35 [00:00<00:00, 100.33it/s, loss=2.12]\n"
          ]
        },
        {
          "output_type": "stream",
          "name": "stdout",
          "text": [
            "Epoch [50/100]: Train loss: 2.1174, Valid loss: 2.1166 Valid acc: 1.0000\n",
            "Saving model with loss 2.117...\n"
          ]
        },
        {
          "output_type": "stream",
          "name": "stderr",
          "text": [
            "Epoch [51/100]: 100%|██████████| 35/35 [00:00<00:00, 91.00it/s, loss=2.12]\n"
          ]
        },
        {
          "output_type": "stream",
          "name": "stdout",
          "text": [
            "Epoch [51/100]: Train loss: 2.1159, Valid loss: 2.1151 Valid acc: 1.0000\n",
            "Saving model with loss 2.115...\n"
          ]
        },
        {
          "output_type": "stream",
          "name": "stderr",
          "text": [
            "Epoch [52/100]: 100%|██████████| 35/35 [00:00<00:00, 94.01it/s, loss=2.11]\n"
          ]
        },
        {
          "output_type": "stream",
          "name": "stdout",
          "text": [
            "Epoch [52/100]: Train loss: 2.1144, Valid loss: 2.1136 Valid acc: 1.0000\n",
            "Saving model with loss 2.114...\n"
          ]
        },
        {
          "output_type": "stream",
          "name": "stderr",
          "text": [
            "Epoch [53/100]: 100%|██████████| 35/35 [00:00<00:00, 89.88it/s, loss=2.11]\n"
          ]
        },
        {
          "output_type": "stream",
          "name": "stdout",
          "text": [
            "Epoch [53/100]: Train loss: 2.1129, Valid loss: 2.1121 Valid acc: 1.0000\n",
            "Saving model with loss 2.112...\n"
          ]
        },
        {
          "output_type": "stream",
          "name": "stderr",
          "text": [
            "Epoch [54/100]: 100%|██████████| 35/35 [00:00<00:00, 84.38it/s, loss=2.11]\n"
          ]
        },
        {
          "output_type": "stream",
          "name": "stdout",
          "text": [
            "Epoch [54/100]: Train loss: 2.1113, Valid loss: 2.1105 Valid acc: 1.0000\n",
            "Saving model with loss 2.111...\n"
          ]
        },
        {
          "output_type": "stream",
          "name": "stderr",
          "text": [
            "Epoch [55/100]: 100%|██████████| 35/35 [00:00<00:00, 92.28it/s, loss=2.11]\n"
          ]
        },
        {
          "output_type": "stream",
          "name": "stdout",
          "text": [
            "Epoch [55/100]: Train loss: 2.1098, Valid loss: 2.1090 Valid acc: 1.0000\n",
            "Saving model with loss 2.109...\n"
          ]
        },
        {
          "output_type": "stream",
          "name": "stderr",
          "text": [
            "Epoch [56/100]: 100%|██████████| 35/35 [00:00<00:00, 93.36it/s, loss=2.11]\n"
          ]
        },
        {
          "output_type": "stream",
          "name": "stdout",
          "text": [
            "Epoch [56/100]: Train loss: 2.1083, Valid loss: 2.1075 Valid acc: 1.0000\n",
            "Saving model with loss 2.107...\n"
          ]
        },
        {
          "output_type": "stream",
          "name": "stderr",
          "text": [
            "Epoch [57/100]: 100%|██████████| 35/35 [00:00<00:00, 101.40it/s, loss=2.11]\n"
          ]
        },
        {
          "output_type": "stream",
          "name": "stdout",
          "text": [
            "Epoch [57/100]: Train loss: 2.1068, Valid loss: 2.1060 Valid acc: 1.0000\n",
            "Saving model with loss 2.106...\n"
          ]
        },
        {
          "output_type": "stream",
          "name": "stderr",
          "text": [
            "Epoch [58/100]: 100%|██████████| 35/35 [00:00<00:00, 97.24it/s, loss=2.1]\n"
          ]
        },
        {
          "output_type": "stream",
          "name": "stdout",
          "text": [
            "Epoch [58/100]: Train loss: 2.1052, Valid loss: 2.1044 Valid acc: 1.0000\n",
            "Saving model with loss 2.104...\n"
          ]
        },
        {
          "output_type": "stream",
          "name": "stderr",
          "text": [
            "Epoch [59/100]: 100%|██████████| 35/35 [00:00<00:00, 89.80it/s, loss=2.1]\n"
          ]
        },
        {
          "output_type": "stream",
          "name": "stdout",
          "text": [
            "Epoch [59/100]: Train loss: 2.1037, Valid loss: 2.1029 Valid acc: 1.0000\n",
            "Saving model with loss 2.103...\n"
          ]
        },
        {
          "output_type": "stream",
          "name": "stderr",
          "text": [
            "Epoch [60/100]: 100%|██████████| 35/35 [00:00<00:00, 99.64it/s, loss=2.1]\n"
          ]
        },
        {
          "output_type": "stream",
          "name": "stdout",
          "text": [
            "Epoch [60/100]: Train loss: 2.1021, Valid loss: 2.1013 Valid acc: 1.0000\n",
            "Saving model with loss 2.101...\n"
          ]
        },
        {
          "output_type": "stream",
          "name": "stderr",
          "text": [
            "Epoch [61/100]: 100%|██████████| 35/35 [00:00<00:00, 97.52it/s, loss=2.1]\n"
          ]
        },
        {
          "output_type": "stream",
          "name": "stdout",
          "text": [
            "Epoch [61/100]: Train loss: 2.1006, Valid loss: 2.0998 Valid acc: 1.0000\n",
            "Saving model with loss 2.100...\n"
          ]
        },
        {
          "output_type": "stream",
          "name": "stderr",
          "text": [
            "Epoch [62/100]: 100%|██████████| 35/35 [00:00<00:00, 95.37it/s, loss=2.1]\n"
          ]
        },
        {
          "output_type": "stream",
          "name": "stdout",
          "text": [
            "Epoch [62/100]: Train loss: 2.0990, Valid loss: 2.0982 Valid acc: 1.0000\n",
            "Saving model with loss 2.098...\n"
          ]
        },
        {
          "output_type": "stream",
          "name": "stderr",
          "text": [
            "Epoch [63/100]: 100%|██████████| 35/35 [00:00<00:00, 85.78it/s, loss=2.1]\n"
          ]
        },
        {
          "output_type": "stream",
          "name": "stdout",
          "text": [
            "Epoch [63/100]: Train loss: 2.0975, Valid loss: 2.0967 Valid acc: 1.0000\n",
            "Saving model with loss 2.097...\n"
          ]
        },
        {
          "output_type": "stream",
          "name": "stderr",
          "text": [
            "Epoch [64/100]: 100%|██████████| 35/35 [00:00<00:00, 87.58it/s, loss=2.1]\n"
          ]
        },
        {
          "output_type": "stream",
          "name": "stdout",
          "text": [
            "Epoch [64/100]: Train loss: 2.0959, Valid loss: 2.0951 Valid acc: 1.0000\n",
            "Saving model with loss 2.095...\n"
          ]
        },
        {
          "output_type": "stream",
          "name": "stderr",
          "text": [
            "Epoch [65/100]: 100%|██████████| 35/35 [00:00<00:00, 92.34it/s, loss=2.09]\n"
          ]
        },
        {
          "output_type": "stream",
          "name": "stdout",
          "text": [
            "Epoch [65/100]: Train loss: 2.0944, Valid loss: 2.0935 Valid acc: 1.0000\n",
            "Saving model with loss 2.094...\n"
          ]
        },
        {
          "output_type": "stream",
          "name": "stderr",
          "text": [
            "Epoch [66/100]: 100%|██████████| 35/35 [00:00<00:00, 88.11it/s, loss=2.09]\n"
          ]
        },
        {
          "output_type": "stream",
          "name": "stdout",
          "text": [
            "Epoch [66/100]: Train loss: 2.0928, Valid loss: 2.0920 Valid acc: 1.0000\n",
            "Saving model with loss 2.092...\n"
          ]
        },
        {
          "output_type": "stream",
          "name": "stderr",
          "text": [
            "Epoch [67/100]: 100%|██████████| 35/35 [00:00<00:00, 95.69it/s, loss=2.09]\n"
          ]
        },
        {
          "output_type": "stream",
          "name": "stdout",
          "text": [
            "Epoch [67/100]: Train loss: 2.0912, Valid loss: 2.0904 Valid acc: 1.0000\n",
            "Saving model with loss 2.090...\n"
          ]
        },
        {
          "output_type": "stream",
          "name": "stderr",
          "text": [
            "Epoch [68/100]: 100%|██████████| 35/35 [00:00<00:00, 93.04it/s, loss=2.09]\n"
          ]
        },
        {
          "output_type": "stream",
          "name": "stdout",
          "text": [
            "Epoch [68/100]: Train loss: 2.0896, Valid loss: 2.0888 Valid acc: 1.0000\n",
            "Saving model with loss 2.089...\n"
          ]
        },
        {
          "output_type": "stream",
          "name": "stderr",
          "text": [
            "Epoch [69/100]: 100%|██████████| 35/35 [00:00<00:00, 97.87it/s, loss=2.09]\n"
          ]
        },
        {
          "output_type": "stream",
          "name": "stdout",
          "text": [
            "Epoch [69/100]: Train loss: 2.0881, Valid loss: 2.0872 Valid acc: 1.0000\n",
            "Saving model with loss 2.087...\n"
          ]
        },
        {
          "output_type": "stream",
          "name": "stderr",
          "text": [
            "Epoch [70/100]: 100%|██████████| 35/35 [00:00<00:00, 88.41it/s, loss=2.09]\n"
          ]
        },
        {
          "output_type": "stream",
          "name": "stdout",
          "text": [
            "Epoch [70/100]: Train loss: 2.0865, Valid loss: 2.0857 Valid acc: 1.0000\n",
            "Saving model with loss 2.086...\n"
          ]
        },
        {
          "output_type": "stream",
          "name": "stderr",
          "text": [
            "Epoch [71/100]: 100%|██████████| 35/35 [00:00<00:00, 89.60it/s, loss=2.08]\n"
          ]
        },
        {
          "output_type": "stream",
          "name": "stdout",
          "text": [
            "Epoch [71/100]: Train loss: 2.0849, Valid loss: 2.0841 Valid acc: 1.0000\n",
            "Saving model with loss 2.084...\n"
          ]
        },
        {
          "output_type": "stream",
          "name": "stderr",
          "text": [
            "Epoch [72/100]: 100%|██████████| 35/35 [00:00<00:00, 98.43it/s, loss=2.08]\n"
          ]
        },
        {
          "output_type": "stream",
          "name": "stdout",
          "text": [
            "Epoch [72/100]: Train loss: 2.0833, Valid loss: 2.0825 Valid acc: 1.0000\n",
            "Saving model with loss 2.082...\n"
          ]
        },
        {
          "output_type": "stream",
          "name": "stderr",
          "text": [
            "Epoch [73/100]: 100%|██████████| 35/35 [00:00<00:00, 96.21it/s, loss=2.08]\n"
          ]
        },
        {
          "output_type": "stream",
          "name": "stdout",
          "text": [
            "Epoch [73/100]: Train loss: 2.0817, Valid loss: 2.0809 Valid acc: 1.0000\n",
            "Saving model with loss 2.081...\n"
          ]
        },
        {
          "output_type": "stream",
          "name": "stderr",
          "text": [
            "Epoch [74/100]: 100%|██████████| 35/35 [00:00<00:00, 92.77it/s, loss=2.08]\n"
          ]
        },
        {
          "output_type": "stream",
          "name": "stdout",
          "text": [
            "Epoch [74/100]: Train loss: 2.0801, Valid loss: 2.0793 Valid acc: 1.0000\n",
            "Saving model with loss 2.079...\n"
          ]
        },
        {
          "output_type": "stream",
          "name": "stderr",
          "text": [
            "Epoch [75/100]: 100%|██████████| 35/35 [00:00<00:00, 90.68it/s, loss=2.08]\n"
          ]
        },
        {
          "output_type": "stream",
          "name": "stdout",
          "text": [
            "Epoch [75/100]: Train loss: 2.0785, Valid loss: 2.0777 Valid acc: 1.0000\n",
            "Saving model with loss 2.078...\n"
          ]
        },
        {
          "output_type": "stream",
          "name": "stderr",
          "text": [
            "Epoch [76/100]: 100%|██████████| 35/35 [00:00<00:00, 43.24it/s, loss=2.08]\n"
          ]
        },
        {
          "output_type": "stream",
          "name": "stdout",
          "text": [
            "Epoch [76/100]: Train loss: 2.0769, Valid loss: 2.0760 Valid acc: 1.0000\n",
            "Saving model with loss 2.076...\n"
          ]
        },
        {
          "output_type": "stream",
          "name": "stderr",
          "text": [
            "Epoch [77/100]: 100%|██████████| 35/35 [00:00<00:00, 83.63it/s, loss=2.07]\n"
          ]
        },
        {
          "output_type": "stream",
          "name": "stdout",
          "text": [
            "Epoch [77/100]: Train loss: 2.0753, Valid loss: 2.0744 Valid acc: 1.0000\n",
            "Saving model with loss 2.074...\n"
          ]
        },
        {
          "output_type": "stream",
          "name": "stderr",
          "text": [
            "Epoch [78/100]: 100%|██████████| 35/35 [00:00<00:00, 89.95it/s, loss=2.07]\n"
          ]
        },
        {
          "output_type": "stream",
          "name": "stdout",
          "text": [
            "Epoch [78/100]: Train loss: 2.0736, Valid loss: 2.0728 Valid acc: 1.0000\n",
            "Saving model with loss 2.073...\n"
          ]
        },
        {
          "output_type": "stream",
          "name": "stderr",
          "text": [
            "Epoch [79/100]: 100%|██████████| 35/35 [00:00<00:00, 90.70it/s, loss=2.07]\n"
          ]
        },
        {
          "output_type": "stream",
          "name": "stdout",
          "text": [
            "Epoch [79/100]: Train loss: 2.0720, Valid loss: 2.0712 Valid acc: 1.0000\n",
            "Saving model with loss 2.071...\n"
          ]
        },
        {
          "output_type": "stream",
          "name": "stderr",
          "text": [
            "Epoch [80/100]: 100%|██████████| 35/35 [00:00<00:00, 90.00it/s, loss=2.07]\n"
          ]
        },
        {
          "output_type": "stream",
          "name": "stdout",
          "text": [
            "Epoch [80/100]: Train loss: 2.0704, Valid loss: 2.0695 Valid acc: 1.0000\n",
            "Saving model with loss 2.070...\n"
          ]
        },
        {
          "output_type": "stream",
          "name": "stderr",
          "text": [
            "Epoch [81/100]: 100%|██████████| 35/35 [00:00<00:00, 83.47it/s, loss=2.07]\n"
          ]
        },
        {
          "output_type": "stream",
          "name": "stdout",
          "text": [
            "Epoch [81/100]: Train loss: 2.0688, Valid loss: 2.0679 Valid acc: 1.0000\n",
            "Saving model with loss 2.068...\n"
          ]
        },
        {
          "output_type": "stream",
          "name": "stderr",
          "text": [
            "Epoch [82/100]: 100%|██████████| 35/35 [00:00<00:00, 78.81it/s, loss=2.07]\n"
          ]
        },
        {
          "output_type": "stream",
          "name": "stdout",
          "text": [
            "Epoch [82/100]: Train loss: 2.0671, Valid loss: 2.0663 Valid acc: 1.0000\n",
            "Saving model with loss 2.066...\n"
          ]
        },
        {
          "output_type": "stream",
          "name": "stderr",
          "text": [
            "Epoch [83/100]: 100%|██████████| 35/35 [00:00<00:00, 82.55it/s, loss=2.06]\n"
          ]
        },
        {
          "output_type": "stream",
          "name": "stdout",
          "text": [
            "Epoch [83/100]: Train loss: 2.0655, Valid loss: 2.0646 Valid acc: 1.0000\n",
            "Saving model with loss 2.065...\n"
          ]
        },
        {
          "output_type": "stream",
          "name": "stderr",
          "text": [
            "Epoch [84/100]: 100%|██████████| 35/35 [00:00<00:00, 83.94it/s, loss=2.06]\n"
          ]
        },
        {
          "output_type": "stream",
          "name": "stdout",
          "text": [
            "Epoch [84/100]: Train loss: 2.0638, Valid loss: 2.0630 Valid acc: 1.0000\n",
            "Saving model with loss 2.063...\n"
          ]
        },
        {
          "output_type": "stream",
          "name": "stderr",
          "text": [
            "Epoch [85/100]: 100%|██████████| 35/35 [00:00<00:00, 84.17it/s, loss=2.06]\n"
          ]
        },
        {
          "output_type": "stream",
          "name": "stdout",
          "text": [
            "Epoch [85/100]: Train loss: 2.0622, Valid loss: 2.0613 Valid acc: 1.0000\n",
            "Saving model with loss 2.061...\n"
          ]
        },
        {
          "output_type": "stream",
          "name": "stderr",
          "text": [
            "Epoch [86/100]: 100%|██████████| 35/35 [00:00<00:00, 87.63it/s, loss=2.06]\n"
          ]
        },
        {
          "output_type": "stream",
          "name": "stdout",
          "text": [
            "Epoch [86/100]: Train loss: 2.0605, Valid loss: 2.0597 Valid acc: 1.0000\n",
            "Saving model with loss 2.060...\n"
          ]
        },
        {
          "output_type": "stream",
          "name": "stderr",
          "text": [
            "Epoch [87/100]: 100%|██████████| 35/35 [00:00<00:00, 82.71it/s, loss=2.06]\n"
          ]
        },
        {
          "output_type": "stream",
          "name": "stdout",
          "text": [
            "Epoch [87/100]: Train loss: 2.0589, Valid loss: 2.0580 Valid acc: 1.0000\n",
            "Saving model with loss 2.058...\n"
          ]
        },
        {
          "output_type": "stream",
          "name": "stderr",
          "text": [
            "Epoch [88/100]: 100%|██████████| 35/35 [00:00<00:00, 82.58it/s, loss=2.06]\n"
          ]
        },
        {
          "output_type": "stream",
          "name": "stdout",
          "text": [
            "Epoch [88/100]: Train loss: 2.0572, Valid loss: 2.0563 Valid acc: 1.0000\n",
            "Saving model with loss 2.056...\n"
          ]
        },
        {
          "output_type": "stream",
          "name": "stderr",
          "text": [
            "Epoch [89/100]: 100%|██████████| 35/35 [00:00<00:00, 78.35it/s, loss=2.05]\n"
          ]
        },
        {
          "output_type": "stream",
          "name": "stdout",
          "text": [
            "Epoch [89/100]: Train loss: 2.0555, Valid loss: 2.0547 Valid acc: 1.0000\n",
            "Saving model with loss 2.055...\n"
          ]
        },
        {
          "output_type": "stream",
          "name": "stderr",
          "text": [
            "Epoch [90/100]: 100%|██████████| 35/35 [00:00<00:00, 83.32it/s, loss=2.05]\n"
          ]
        },
        {
          "output_type": "stream",
          "name": "stdout",
          "text": [
            "Epoch [90/100]: Train loss: 2.0538, Valid loss: 2.0530 Valid acc: 1.0000\n",
            "Saving model with loss 2.053...\n"
          ]
        },
        {
          "output_type": "stream",
          "name": "stderr",
          "text": [
            "Epoch [91/100]: 100%|██████████| 35/35 [00:00<00:00, 83.41it/s, loss=2.05]\n"
          ]
        },
        {
          "output_type": "stream",
          "name": "stdout",
          "text": [
            "Epoch [91/100]: Train loss: 2.0522, Valid loss: 2.0513 Valid acc: 1.0000\n",
            "Saving model with loss 2.051...\n"
          ]
        },
        {
          "output_type": "stream",
          "name": "stderr",
          "text": [
            "Epoch [92/100]: 100%|██████████| 35/35 [00:00<00:00, 90.03it/s, loss=2.05]\n"
          ]
        },
        {
          "output_type": "stream",
          "name": "stdout",
          "text": [
            "Epoch [92/100]: Train loss: 2.0505, Valid loss: 2.0496 Valid acc: 1.0000\n",
            "Saving model with loss 2.050...\n"
          ]
        },
        {
          "output_type": "stream",
          "name": "stderr",
          "text": [
            "Epoch [93/100]: 100%|██████████| 35/35 [00:00<00:00, 84.52it/s, loss=2.05]\n"
          ]
        },
        {
          "output_type": "stream",
          "name": "stdout",
          "text": [
            "Epoch [93/100]: Train loss: 2.0488, Valid loss: 2.0479 Valid acc: 1.0000\n",
            "Saving model with loss 2.048...\n"
          ]
        },
        {
          "output_type": "stream",
          "name": "stderr",
          "text": [
            "Epoch [94/100]: 100%|██████████| 35/35 [00:00<00:00, 78.05it/s, loss=2.05]\n"
          ]
        },
        {
          "output_type": "stream",
          "name": "stdout",
          "text": [
            "Epoch [94/100]: Train loss: 2.0471, Valid loss: 2.0462 Valid acc: 1.0000\n",
            "Saving model with loss 2.046...\n"
          ]
        },
        {
          "output_type": "stream",
          "name": "stderr",
          "text": [
            "Epoch [95/100]: 100%|██████████| 35/35 [00:00<00:00, 91.80it/s, loss=2.04]\n"
          ]
        },
        {
          "output_type": "stream",
          "name": "stdout",
          "text": [
            "Epoch [95/100]: Train loss: 2.0454, Valid loss: 2.0445 Valid acc: 1.0000\n",
            "Saving model with loss 2.045...\n"
          ]
        },
        {
          "output_type": "stream",
          "name": "stderr",
          "text": [
            "Epoch [96/100]: 100%|██████████| 35/35 [00:00<00:00, 90.38it/s, loss=2.04]\n"
          ]
        },
        {
          "output_type": "stream",
          "name": "stdout",
          "text": [
            "Epoch [96/100]: Train loss: 2.0437, Valid loss: 2.0428 Valid acc: 1.0000\n",
            "Saving model with loss 2.043...\n"
          ]
        },
        {
          "output_type": "stream",
          "name": "stderr",
          "text": [
            "Epoch [97/100]: 100%|██████████| 35/35 [00:00<00:00, 92.89it/s, loss=2.04]\n"
          ]
        },
        {
          "output_type": "stream",
          "name": "stdout",
          "text": [
            "Epoch [97/100]: Train loss: 2.0420, Valid loss: 2.0411 Valid acc: 1.0000\n",
            "Saving model with loss 2.041...\n"
          ]
        },
        {
          "output_type": "stream",
          "name": "stderr",
          "text": [
            "Epoch [98/100]: 100%|██████████| 35/35 [00:00<00:00, 84.33it/s, loss=2.04]\n"
          ]
        },
        {
          "output_type": "stream",
          "name": "stdout",
          "text": [
            "Epoch [98/100]: Train loss: 2.0403, Valid loss: 2.0394 Valid acc: 1.0000\n",
            "Saving model with loss 2.039...\n"
          ]
        },
        {
          "output_type": "stream",
          "name": "stderr",
          "text": [
            "Epoch [99/100]: 100%|██████████| 35/35 [00:00<00:00, 82.81it/s, loss=2.04]\n"
          ]
        },
        {
          "output_type": "stream",
          "name": "stdout",
          "text": [
            "Epoch [99/100]: Train loss: 2.0385, Valid loss: 2.0377 Valid acc: 1.0000\n",
            "Saving model with loss 2.038...\n"
          ]
        },
        {
          "output_type": "stream",
          "name": "stderr",
          "text": [
            "Epoch [100/100]: 100%|██████████| 35/35 [00:00<00:00, 84.66it/s, loss=2.04]\n"
          ]
        },
        {
          "output_type": "stream",
          "name": "stdout",
          "text": [
            "Epoch [100/100]: Train loss: 2.0368, Valid loss: 2.0359 Valid acc: 1.0000\n",
            "Saving model with loss 2.036...\n"
          ]
        }
      ]
    },
    {
      "cell_type": "code",
      "source": [],
      "metadata": {
        "id": "eTXyVhip0akn"
      },
      "execution_count": null,
      "outputs": []
    },
    {
      "cell_type": "code",
      "source": [
        "\n",
        "def predict(test_loader, model, device):\n",
        "    model.eval() # Set your model to evaluation mode.\n",
        "    preds = []\n",
        "    for x in tqdm(test_loader):\n",
        "        x = x.to(device)                        \n",
        "        with torch.no_grad():                   \n",
        "            pred = model(x)                     \n",
        "            preds.append(pred.detach().cpu())   \n",
        "    preds = torch.cat(preds, dim=0).numpy()  \n",
        "    return preds"
      ],
      "metadata": {
        "id": "RbrcpfYN2I-H"
      },
      "execution_count": null,
      "outputs": []
    },
    {
      "cell_type": "code",
      "source": [
        "model = My_Model(input_dim=x_train.shape[1]).to(device)\n",
        "model.load_state_dict(torch.load(config['save_path']))\n",
        "preds = predict(test_loader, model, device)\n",
        "\n",
        "\n",
        "\n",
        "test_accuracy = []\n",
        "pred = torch.Tensor(preds)\n",
        "y = torch.Tensor(y_test)\n",
        "pred, y = pred.to(device), y.to(device)\n",
        "with torch.no_grad():\n",
        "    _, predicted = torch.max(pred, 1)\n",
        "    test_accuracy.append((predicted == y).sum().item() / predicted.size(0))\n",
        "    \n",
        "overall_val_accuracy = np.mean(test_accuracy)\n",
        "print('overall test accuracy:', overall_val_accuracy)\n"
      ],
      "metadata": {
        "colab": {
          "base_uri": "https://localhost:8080/"
        },
        "id": "dartpcKo0NDR",
        "outputId": "5c545b95-6004-4eda-eb8b-9f8aaeb79986"
      },
      "execution_count": null,
      "outputs": [
        {
          "output_type": "stream",
          "name": "stderr",
          "text": [
            "100%|██████████| 43/43 [00:00<00:00, 947.66it/s]"
          ]
        },
        {
          "output_type": "stream",
          "name": "stdout",
          "text": [
            "overall test accuracy: 0.0\n"
          ]
        },
        {
          "output_type": "stream",
          "name": "stderr",
          "text": [
            "\n"
          ]
        }
      ]
    }
  ]
}